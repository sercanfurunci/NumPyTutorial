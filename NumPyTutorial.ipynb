{
  "metadata": {
    "language_info": {
      "codemirror_mode": {
        "name": "python",
        "version": 3
      },
      "file_extension": ".py",
      "mimetype": "text/x-python",
      "name": "python",
      "nbconvert_exporter": "python",
      "pygments_lexer": "ipython3",
      "version": "3.8"
    },
    "kernelspec": {
      "name": "python",
      "display_name": "Pyolite",
      "language": "python"
    }
  },
  "nbformat_minor": 4,
  "nbformat": 4,
  "cells": [
    {
      "cell_type": "code",
      "source": "import numpy as np ",
      "metadata": {
        "trusted": true
      },
      "execution_count": 2,
      "outputs": []
    },
    {
      "cell_type": "code",
      "source": "#8 elemanlı bir dizi oluşturulur\none_dimensional_array = np.array([1.5, 2.6, 3.7, 4.8, 6.9, 7.4, 8.2, 9.3])\nprint(one_dimensional_array)",
      "metadata": {
        "trusted": true
      },
      "execution_count": 20,
      "outputs": [
        {
          "name": "stdout",
          "text": "[1.5 2.6 3.7 4.8 6.9 7.4 8.2 9.3]\n",
          "output_type": "stream"
        }
      ]
    },
    {
      "cell_type": "code",
      "source": "#3x2'lik bir matris oluşturulur\ntwo_dimensional_array = np.array([[1, 2], [3, 4], [5, 6]])\nprint(two_dimensional_array)",
      "metadata": {
        "trusted": true
      },
      "execution_count": 21,
      "outputs": [
        {
          "name": "stdout",
          "text": "[[1 2]\n [3 4]\n [5 6]]\n",
          "output_type": "stream"
        }
      ]
    },
    {
      "cell_type": "code",
      "source": "#dizi 7-14 arası sayılarla doldurulur\nsequence_of_integers = np.arange(7, 14)\nprint(sequence_of_integers)",
      "metadata": {
        "trusted": true
      },
      "execution_count": 24,
      "outputs": [
        {
          "name": "stdout",
          "text": "[ 7  8  9 10 11 12 13]\n",
          "output_type": "stream"
        }
      ]
    },
    {
      "cell_type": "code",
      "source": "#30-80 arası rastgele, 5 ögeli dizi oluşturulur\nrandom_integers_between_30_and_80 = np.random.randint(low=29, high=81, size=(5))\nprint(random_integers_between_30_and_80)",
      "metadata": {
        "trusted": true
      },
      "execution_count": 31,
      "outputs": [
        {
          "name": "stdout",
          "text": "[38 54 50 46 57]\n",
          "output_type": "stream"
        }
      ]
    },
    {
      "cell_type": "code",
      "source": "#0.0 ile 1.0 arası rastgele, 6 float ögeli dizi oluşturulur\nrandom_floats_between_0_and_1 = np.random.random([6])\nprint(random_floats_between_0_and_1)",
      "metadata": {
        "trusted": true
      },
      "execution_count": 34,
      "outputs": [
        {
          "name": "stdout",
          "text": "[0.08228643 0.61741622 0.21906986 0.63555034 0.1988785  0.16942525]\n",
          "output_type": "stream"
        }
      ]
    },
    {
      "cell_type": "code",
      "source": "#dizideki her ögenin değerine 2.0 eklenir\nrandom_floats_between_2_and_3 = random_floats_between_0_and_1 + 2.0\nprint(random_floats_between_2_and_3)",
      "metadata": {
        "trusted": true
      },
      "execution_count": 35,
      "outputs": [
        {
          "name": "stdout",
          "text": "[2.08228643 2.61741622 2.21906986 2.63555034 2.1988785  2.16942525]\n",
          "output_type": "stream"
        }
      ]
    },
    {
      "cell_type": "code",
      "source": "##dizideki her ögenin değeri 3.0 ile çarpılır\nrandom_integers_between_100_and_300 = random_integers_between_30_and_80 * 3\nprint(random_integers_between_100_and_300)",
      "metadata": {
        "trusted": true
      },
      "execution_count": 38,
      "outputs": [
        {
          "name": "stdout",
          "text": "[114 162 150 138 171]\n",
          "output_type": "stream"
        }
      ]
    },
    {
      "cell_type": "code",
      "source": "#NumPy dizisi adlı bir özelliğe 6 ile 20 (dahil) arası bir int dizisi atanır.\n#Etiket adlı bir NumPy dizisine 15 değer atanır\nfeature = np.arange(6, 21)\nprint(feature)\nlabel = (feature * 3) + 4\nprint(label)",
      "metadata": {
        "trusted": true
      },
      "execution_count": 39,
      "outputs": [
        {
          "name": "stdout",
          "text": "[ 6  7  8  9 10 11 12 13 14 15 16 17 18 19 20]\n[22 25 28 31 34 37 40 43 46 49 52 55 58 61 64]\n",
          "output_type": "stream"
        }
      ]
    },
    {
      "cell_type": "code",
      "source": "#-2 ile +2 arasında farklı bir rastgele float değeri ekleyerek etikete atanan her değer değiştirilir\nnoise = (np.random.random([15]) * 4) - 2\nprint(noise)\nlabel = label + noise \nprint(label)",
      "metadata": {
        "trusted": true
      },
      "execution_count": 40,
      "outputs": [
        {
          "name": "stdout",
          "text": "[ 0.74801615  0.34110674 -0.25355422  1.86648053 -1.7178096  -1.48426161\n  1.42446379 -1.76083569 -1.87356197  1.23393403  0.64686356  1.76359895\n -0.37732134  1.29057127  1.31921738]\n[22.74801615 25.34110674 27.74644578 32.86648053 32.2821904  35.51573839\n 41.42446379 41.23916431 44.12643803 50.23393403 52.64686356 56.76359895\n 57.62267866 62.29057127 65.31921738]\n",
          "output_type": "stream"
        }
      ]
    }
  ]
}